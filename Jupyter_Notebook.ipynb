{
 "cells": [
  {
   "cell_type": "markdown",
   "metadata": {},
   "source": [
    "<center>\n",
    "    <img src=\"https://s3-api.us-geo.objectstorage.softlayer.net/cf-courses-data/CognitiveClass/Logos/organization_logo/organization_logo.png\" width=\"300\" alt=\"cognitiveclass.ai logo\"  />\n",
    "</center>\n"
   ]
  },
  {
   "cell_type": "markdown",
   "metadata": {},
   "source": [
    "#### Add your code below following the instructions given in the course\n"
   ]
  },
  {
   "cell_type": "markdown",
   "metadata": {},
   "source": [
    "# My Jupyter Notebook on IBM Watson Studio"
   ]
  },
  {
   "cell_type": "markdown",
   "metadata": {},
   "source": [
    "**John Hamlen**<br>\n",
    "Data Scientist"
   ]
  },
  {
   "cell_type": "markdown",
   "metadata": {},
   "source": [
    "*I am interested in data science because it combines two of my lifelong interests:\n",
    "computer science/programming, and probability/statistics*"
   ]
  },
  {
   "cell_type": "markdown",
   "metadata": {},
   "source": [
    "### The following code is to calculate 2 to the power of 16:"
   ]
  },
  {
   "cell_type": "code",
   "execution_count": 3,
   "metadata": {},
   "outputs": [
    {
     "data": {
      "text/plain": [
       "65536"
      ]
     },
     "execution_count": 3,
     "metadata": {},
     "output_type": "execute_result"
    }
   ],
   "source": [
    "2**16"
   ]
  },
  {
   "cell_type": "markdown",
   "metadata": {
    "tags": []
   },
   "source": [
    "Example of horizontal rule:\n",
    "***\n",
    "\n",
    "Example of bulleted list:\n",
    "* First list item\n",
    "* Second list item\n",
    "* Third list item\n",
    "\n",
    "Example of a numbered list:\n",
    "1. First list item\n",
    "1. Second list item\n",
    "1. Third list item\n",
    "\n",
    "Example of a table:\n",
    "||col1|col2|\n",
    "|---|---|---|\n",
    "|row1|||\n",
    "|row2|||\n",
    "\n",
    "Example of a hyperlink:<br>\n",
    "[Markdown Cheatsheet](https://www.ibm.com/docs/en/watson-studio-local/1.2.3?topic=notebooks-markdown-jupyter-cheatsheet)\n",
    "\n",
    "Example of an image:<br>\n",
    "![](https://upload.wikimedia.org/wikipedia/commons/b/b4/Mona-lisa_1.jpg)\n",
    "\n",
    "Example of code/syntax highlighting:<br>\n",
    "```python\n",
    "str = \"Python code/syntax highlighting\"\n",
    "print(str)\n",
    "```\n",
    "\n",
    "Example of a blocked quote:<br>\n",
    "> Mary had a little lamb\n",
    ">> Its fleece was white as snow\n",
    "\n",
    "Example of ~~striketrough~~ text\n"
   ]
  }
 ],
 "metadata": {
  "kernelspec": {
   "display_name": "Python",
   "language": "python",
   "name": "conda-env-python-py"
  },
  "language_info": {
   "codemirror_mode": {
    "name": "ipython",
    "version": 3
   },
   "file_extension": ".py",
   "mimetype": "text/x-python",
   "name": "python",
   "nbconvert_exporter": "python",
   "pygments_lexer": "ipython3",
   "version": "3.7.12"
  }
 },
 "nbformat": 4,
 "nbformat_minor": 4
}
